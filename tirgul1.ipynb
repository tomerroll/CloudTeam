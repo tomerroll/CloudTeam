{
  "nbformat": 4,
  "nbformat_minor": 0,
  "metadata": {
    "colab": {
      "provenance": []
    },
    "kernelspec": {
      "name": "python3",
      "display_name": "Python 3"
    },
    "language_info": {
      "name": "python"
    },
    "widgets": {
      "application/vnd.jupyter.widget-state+json": {
        "a9d394ecf3fd4445810a561cbae39c00": {
          "model_module": "@jupyter-widgets/controls",
          "model_name": "DropdownModel",
          "model_module_version": "1.5.0",
          "state": {
            "_dom_classes": [],
            "_model_module": "@jupyter-widgets/controls",
            "_model_module_version": "1.5.0",
            "_model_name": "DropdownModel",
            "_options_labels": [
              "Tomer roll",
              "Tom biton",
              "Lidor ben hamo"
            ],
            "_view_count": null,
            "_view_module": "@jupyter-widgets/controls",
            "_view_module_version": "1.5.0",
            "_view_name": "DropdownView",
            "description": "Name:",
            "description_tooltip": null,
            "disabled": false,
            "index": 2,
            "layout": "IPY_MODEL_d6d30bafb16d44eb9447e64e7f2a5529",
            "style": "IPY_MODEL_12d7b4bd1f9f4add8c67e31a52085fa1"
          }
        },
        "d6d30bafb16d44eb9447e64e7f2a5529": {
          "model_module": "@jupyter-widgets/base",
          "model_name": "LayoutModel",
          "model_module_version": "1.2.0",
          "state": {
            "_model_module": "@jupyter-widgets/base",
            "_model_module_version": "1.2.0",
            "_model_name": "LayoutModel",
            "_view_count": null,
            "_view_module": "@jupyter-widgets/base",
            "_view_module_version": "1.2.0",
            "_view_name": "LayoutView",
            "align_content": null,
            "align_items": null,
            "align_self": null,
            "border": null,
            "bottom": null,
            "display": null,
            "flex": null,
            "flex_flow": null,
            "grid_area": null,
            "grid_auto_columns": null,
            "grid_auto_flow": null,
            "grid_auto_rows": null,
            "grid_column": null,
            "grid_gap": null,
            "grid_row": null,
            "grid_template_areas": null,
            "grid_template_columns": null,
            "grid_template_rows": null,
            "height": null,
            "justify_content": null,
            "justify_items": null,
            "left": null,
            "margin": null,
            "max_height": null,
            "max_width": null,
            "min_height": null,
            "min_width": null,
            "object_fit": null,
            "object_position": null,
            "order": null,
            "overflow": null,
            "overflow_x": null,
            "overflow_y": null,
            "padding": null,
            "right": null,
            "top": null,
            "visibility": null,
            "width": null
          }
        },
        "12d7b4bd1f9f4add8c67e31a52085fa1": {
          "model_module": "@jupyter-widgets/controls",
          "model_name": "DescriptionStyleModel",
          "model_module_version": "1.5.0",
          "state": {
            "_model_module": "@jupyter-widgets/controls",
            "_model_module_version": "1.5.0",
            "_model_name": "DescriptionStyleModel",
            "_view_count": null,
            "_view_module": "@jupyter-widgets/base",
            "_view_module_version": "1.2.0",
            "_view_name": "StyleView",
            "description_width": ""
          }
        },
        "c2b4dcee0d514578bc3d2932b8c90914": {
          "model_module": "@jupyter-widgets/controls",
          "model_name": "TextModel",
          "model_module_version": "1.5.0",
          "state": {
            "_dom_classes": [],
            "_model_module": "@jupyter-widgets/controls",
            "_model_module_version": "1.5.0",
            "_model_name": "TextModel",
            "_view_count": null,
            "_view_module": "@jupyter-widgets/controls",
            "_view_module_version": "1.5.0",
            "_view_name": "TextView",
            "continuous_update": true,
            "description": "Email:",
            "description_tooltip": null,
            "disabled": true,
            "layout": "IPY_MODEL_5101a6c594cf442aa66f153f316b7e9e",
            "placeholder": "​",
            "style": "IPY_MODEL_b4e29b7c80c84da1bf193d3ec40aa80c",
            "value": "lidor.ben.hamo@e.braude.ac.il"
          }
        },
        "5101a6c594cf442aa66f153f316b7e9e": {
          "model_module": "@jupyter-widgets/base",
          "model_name": "LayoutModel",
          "model_module_version": "1.2.0",
          "state": {
            "_model_module": "@jupyter-widgets/base",
            "_model_module_version": "1.2.0",
            "_model_name": "LayoutModel",
            "_view_count": null,
            "_view_module": "@jupyter-widgets/base",
            "_view_module_version": "1.2.0",
            "_view_name": "LayoutView",
            "align_content": null,
            "align_items": null,
            "align_self": null,
            "border": null,
            "bottom": null,
            "display": null,
            "flex": null,
            "flex_flow": null,
            "grid_area": null,
            "grid_auto_columns": null,
            "grid_auto_flow": null,
            "grid_auto_rows": null,
            "grid_column": null,
            "grid_gap": null,
            "grid_row": null,
            "grid_template_areas": null,
            "grid_template_columns": null,
            "grid_template_rows": null,
            "height": null,
            "justify_content": null,
            "justify_items": null,
            "left": null,
            "margin": null,
            "max_height": null,
            "max_width": null,
            "min_height": null,
            "min_width": null,
            "object_fit": null,
            "object_position": null,
            "order": null,
            "overflow": null,
            "overflow_x": null,
            "overflow_y": null,
            "padding": null,
            "right": null,
            "top": null,
            "visibility": null,
            "width": null
          }
        },
        "b4e29b7c80c84da1bf193d3ec40aa80c": {
          "model_module": "@jupyter-widgets/controls",
          "model_name": "DescriptionStyleModel",
          "model_module_version": "1.5.0",
          "state": {
            "_model_module": "@jupyter-widgets/controls",
            "_model_module_version": "1.5.0",
            "_model_name": "DescriptionStyleModel",
            "_view_count": null,
            "_view_module": "@jupyter-widgets/base",
            "_view_module_version": "1.2.0",
            "_view_name": "StyleView",
            "description_width": ""
          }
        },
        "f41b310051434de7b6289eedf5a74613": {
          "model_module": "@jupyter-widgets/controls",
          "model_name": "TextModel",
          "model_module_version": "1.5.0",
          "state": {
            "_dom_classes": [],
            "_model_module": "@jupyter-widgets/controls",
            "_model_module_version": "1.5.0",
            "_model_name": "TextModel",
            "_view_count": null,
            "_view_module": "@jupyter-widgets/controls",
            "_view_module_version": "1.5.0",
            "_view_name": "TextView",
            "continuous_update": true,
            "description": "Courses:",
            "description_tooltip": null,
            "disabled": true,
            "layout": "IPY_MODEL_a90cd06bfc7f4c84bb2d5ddb18a999b0",
            "placeholder": "​",
            "style": "IPY_MODEL_e769b7db2a9643df8639794721559aca",
            "value": "[a-k-c-d-f]"
          }
        },
        "a90cd06bfc7f4c84bb2d5ddb18a999b0": {
          "model_module": "@jupyter-widgets/base",
          "model_name": "LayoutModel",
          "model_module_version": "1.2.0",
          "state": {
            "_model_module": "@jupyter-widgets/base",
            "_model_module_version": "1.2.0",
            "_model_name": "LayoutModel",
            "_view_count": null,
            "_view_module": "@jupyter-widgets/base",
            "_view_module_version": "1.2.0",
            "_view_name": "LayoutView",
            "align_content": null,
            "align_items": null,
            "align_self": null,
            "border": null,
            "bottom": null,
            "display": null,
            "flex": null,
            "flex_flow": null,
            "grid_area": null,
            "grid_auto_columns": null,
            "grid_auto_flow": null,
            "grid_auto_rows": null,
            "grid_column": null,
            "grid_gap": null,
            "grid_row": null,
            "grid_template_areas": null,
            "grid_template_columns": null,
            "grid_template_rows": null,
            "height": null,
            "justify_content": null,
            "justify_items": null,
            "left": null,
            "margin": null,
            "max_height": null,
            "max_width": null,
            "min_height": null,
            "min_width": null,
            "object_fit": null,
            "object_position": null,
            "order": null,
            "overflow": null,
            "overflow_x": null,
            "overflow_y": null,
            "padding": null,
            "right": null,
            "top": null,
            "visibility": null,
            "width": null
          }
        },
        "e769b7db2a9643df8639794721559aca": {
          "model_module": "@jupyter-widgets/controls",
          "model_name": "DescriptionStyleModel",
          "model_module_version": "1.5.0",
          "state": {
            "_model_module": "@jupyter-widgets/controls",
            "_model_module_version": "1.5.0",
            "_model_name": "DescriptionStyleModel",
            "_view_count": null,
            "_view_module": "@jupyter-widgets/base",
            "_view_module_version": "1.2.0",
            "_view_name": "StyleView",
            "description_width": ""
          }
        },
        "35d447ca121c4fbd92f905a14a9b9897": {
          "model_module": "@jupyter-widgets/controls",
          "model_name": "TextModel",
          "model_module_version": "1.5.0",
          "state": {
            "_dom_classes": [],
            "_model_module": "@jupyter-widgets/controls",
            "_model_module_version": "1.5.0",
            "_model_name": "TextModel",
            "_view_count": null,
            "_view_module": "@jupyter-widgets/controls",
            "_view_module_version": "1.5.0",
            "_view_name": "TextView",
            "continuous_update": true,
            "description": "Favorite Program:",
            "description_tooltip": null,
            "disabled": false,
            "layout": "IPY_MODEL_3911525e6ff049fcb865b55b01c36789",
            "placeholder": "​",
            "style": "IPY_MODEL_0fdf9780d29c4480ace5f8e5a0effcb3",
            "value": "breaking bad"
          }
        },
        "3911525e6ff049fcb865b55b01c36789": {
          "model_module": "@jupyter-widgets/base",
          "model_name": "LayoutModel",
          "model_module_version": "1.2.0",
          "state": {
            "_model_module": "@jupyter-widgets/base",
            "_model_module_version": "1.2.0",
            "_model_name": "LayoutModel",
            "_view_count": null,
            "_view_module": "@jupyter-widgets/base",
            "_view_module_version": "1.2.0",
            "_view_name": "LayoutView",
            "align_content": null,
            "align_items": null,
            "align_self": null,
            "border": null,
            "bottom": null,
            "display": null,
            "flex": null,
            "flex_flow": null,
            "grid_area": null,
            "grid_auto_columns": null,
            "grid_auto_flow": null,
            "grid_auto_rows": null,
            "grid_column": null,
            "grid_gap": null,
            "grid_row": null,
            "grid_template_areas": null,
            "grid_template_columns": null,
            "grid_template_rows": null,
            "height": null,
            "justify_content": null,
            "justify_items": null,
            "left": null,
            "margin": null,
            "max_height": null,
            "max_width": null,
            "min_height": null,
            "min_width": null,
            "object_fit": null,
            "object_position": null,
            "order": null,
            "overflow": null,
            "overflow_x": null,
            "overflow_y": null,
            "padding": null,
            "right": null,
            "top": null,
            "visibility": null,
            "width": null
          }
        },
        "0fdf9780d29c4480ace5f8e5a0effcb3": {
          "model_module": "@jupyter-widgets/controls",
          "model_name": "DescriptionStyleModel",
          "model_module_version": "1.5.0",
          "state": {
            "_model_module": "@jupyter-widgets/controls",
            "_model_module_version": "1.5.0",
            "_model_name": "DescriptionStyleModel",
            "_view_count": null,
            "_view_module": "@jupyter-widgets/base",
            "_view_module_version": "1.2.0",
            "_view_name": "StyleView",
            "description_width": ""
          }
        },
        "1432d9a1094d4ba1ab12a5728bdb1973": {
          "model_module": "@jupyter-widgets/controls",
          "model_name": "ButtonModel",
          "model_module_version": "1.5.0",
          "state": {
            "_dom_classes": [],
            "_model_module": "@jupyter-widgets/controls",
            "_model_module_version": "1.5.0",
            "_model_name": "ButtonModel",
            "_view_count": null,
            "_view_module": "@jupyter-widgets/controls",
            "_view_module_version": "1.5.0",
            "_view_name": "ButtonView",
            "button_style": "",
            "description": "Save to File",
            "disabled": false,
            "icon": "",
            "layout": "IPY_MODEL_6455574740584f70984dcd0818e44d4c",
            "style": "IPY_MODEL_b31f2731562a4195aa9638adbbb99b80",
            "tooltip": ""
          }
        },
        "6455574740584f70984dcd0818e44d4c": {
          "model_module": "@jupyter-widgets/base",
          "model_name": "LayoutModel",
          "model_module_version": "1.2.0",
          "state": {
            "_model_module": "@jupyter-widgets/base",
            "_model_module_version": "1.2.0",
            "_model_name": "LayoutModel",
            "_view_count": null,
            "_view_module": "@jupyter-widgets/base",
            "_view_module_version": "1.2.0",
            "_view_name": "LayoutView",
            "align_content": null,
            "align_items": null,
            "align_self": null,
            "border": null,
            "bottom": null,
            "display": null,
            "flex": null,
            "flex_flow": null,
            "grid_area": null,
            "grid_auto_columns": null,
            "grid_auto_flow": null,
            "grid_auto_rows": null,
            "grid_column": null,
            "grid_gap": null,
            "grid_row": null,
            "grid_template_areas": null,
            "grid_template_columns": null,
            "grid_template_rows": null,
            "height": null,
            "justify_content": null,
            "justify_items": null,
            "left": null,
            "margin": null,
            "max_height": null,
            "max_width": null,
            "min_height": null,
            "min_width": null,
            "object_fit": null,
            "object_position": null,
            "order": null,
            "overflow": null,
            "overflow_x": null,
            "overflow_y": null,
            "padding": null,
            "right": null,
            "top": null,
            "visibility": null,
            "width": null
          }
        },
        "b31f2731562a4195aa9638adbbb99b80": {
          "model_module": "@jupyter-widgets/controls",
          "model_name": "ButtonStyleModel",
          "model_module_version": "1.5.0",
          "state": {
            "_model_module": "@jupyter-widgets/controls",
            "_model_module_version": "1.5.0",
            "_model_name": "ButtonStyleModel",
            "_view_count": null,
            "_view_module": "@jupyter-widgets/base",
            "_view_module_version": "1.2.0",
            "_view_name": "StyleView",
            "button_color": null,
            "font_weight": ""
          }
        }
      }
    }
  },
  "cells": [
    {
      "cell_type": "code",
      "source": [
        "import ipywidgets as widgets\n",
        "from IPython.display import display\n",
        "\n",
        "# Define the Student structure\n",
        "class Student:\n",
        "    def __init__(self, full_name, email, courses):\n",
        "        self.full_name = full_name\n",
        "        self.email = email\n",
        "        self.courses = courses\n",
        "        self.favorite_program = \"\"\n",
        "\n",
        "    def set_favorite_program(self, program):\n",
        "        self.favorite_program = program\n",
        "\n",
        "    def __str__(self):\n",
        "        return f\"{self.full_name}, {self.email}, [{self.courses}], {self.favorite_program}\"\n",
        "\n",
        "def extract_students(filename):\n",
        "    try:\n",
        "        with open(filename, 'r', encoding='utf-8') as file:\n",
        "            lines = file.readlines()\n",
        "\n",
        "        students = {}\n",
        "        for line in lines:\n",
        "            line = line.strip()\n",
        "            if line:\n",
        "                parts = [p.strip() for p in line.split(',') if p.strip()]\n",
        "                if len(parts) >= 3:\n",
        "                    full_name = parts[0]\n",
        "                    email = parts[1]\n",
        "                    courses = parts[2]\n",
        "                    students[full_name] = Student(full_name, email, courses)\n",
        "\n",
        "        return students\n",
        "    except Exception as e:\n",
        "        print(\"Error reading file:\", e)\n",
        "        return {}\n",
        "\n",
        "def on_select(change):\n",
        "    selected_name = change['new']\n",
        "    if selected_name in students:\n",
        "        email_box.value = students[selected_name].email\n",
        "        courses_box.value = students[selected_name].courses\n",
        "        favorite_program_box.value = students[selected_name].favorite_program\n",
        "\n",
        "def update_favorite(change):\n",
        "    selected_name = dropdown.value\n",
        "    if selected_name in students:\n",
        "        students[selected_name].set_favorite_program(change[\"new\"])\n",
        "\n",
        "def save_students_to_file(filename):\n",
        "    try:\n",
        "        with open(filename, 'w', encoding='utf-8') as file:\n",
        "            for student in students.values():\n",
        "                file.write(f\"{student.full_name}, {student.email}, [{student.courses}], {student.favorite_program}\\n\")\n",
        "        print(\"Student data saved successfully!\")\n",
        "    except Exception as e:\n",
        "        print(\"Error saving file:\", e)\n",
        "\n",
        "# Load student data\n",
        "filename = 'students.txt'\n",
        "students = extract_students(filename)\n",
        "names = list(students.keys())\n",
        "\n",
        "# Create dropdown and text boxes\n",
        "dropdown = widgets.Dropdown(options=names, description='Name:')\n",
        "email_box = widgets.Text(description='Email:', disabled=True)\n",
        "courses_box = widgets.Text(description='Courses:', disabled=True)\n",
        "favorite_program_box = widgets.Text(description='Favorite Program:')\n",
        "\n",
        "# Observe changes\n",
        "dropdown.observe(on_select, names='value')\n",
        "favorite_program_box.observe(update_favorite, names='value')\n",
        "\n",
        "# Display widgets\n",
        "display(dropdown, email_box, courses_box, favorite_program_box)\n",
        "\n",
        "# Save the students' data back to the file after updating favorite_program\n",
        "# For demonstration, we call this at the end after updating favorite program\n",
        "save_button = widgets.Button(description=\"Save to File\")\n",
        "save_button.on_click(lambda b: save_students_to_file(filename))\n",
        "display(save_button)\n"
      ],
      "metadata": {
        "colab": {
          "base_uri": "https://localhost:8080/",
          "height": 327,
          "referenced_widgets": [
            "a9d394ecf3fd4445810a561cbae39c00",
            "d6d30bafb16d44eb9447e64e7f2a5529",
            "12d7b4bd1f9f4add8c67e31a52085fa1",
            "c2b4dcee0d514578bc3d2932b8c90914",
            "5101a6c594cf442aa66f153f316b7e9e",
            "b4e29b7c80c84da1bf193d3ec40aa80c",
            "f41b310051434de7b6289eedf5a74613",
            "a90cd06bfc7f4c84bb2d5ddb18a999b0",
            "e769b7db2a9643df8639794721559aca",
            "35d447ca121c4fbd92f905a14a9b9897",
            "3911525e6ff049fcb865b55b01c36789",
            "0fdf9780d29c4480ace5f8e5a0effcb3",
            "1432d9a1094d4ba1ab12a5728bdb1973",
            "6455574740584f70984dcd0818e44d4c",
            "b31f2731562a4195aa9638adbbb99b80"
          ]
        },
        "id": "VFO-UOSoCtaV",
        "outputId": "50bbd2b6-9ad8-4337-cf2e-254695dcef1e"
      },
      "execution_count": 20,
      "outputs": [
        {
          "output_type": "display_data",
          "data": {
            "text/plain": [
              "Dropdown(description='Name:', options=('Tomer roll', 'Tom biton', 'Lidor ben hamo'), value='Tomer roll')"
            ],
            "application/vnd.jupyter.widget-view+json": {
              "version_major": 2,
              "version_minor": 0,
              "model_id": "a9d394ecf3fd4445810a561cbae39c00"
            }
          },
          "metadata": {}
        },
        {
          "output_type": "display_data",
          "data": {
            "text/plain": [
              "Text(value='', description='Email:', disabled=True)"
            ],
            "application/vnd.jupyter.widget-view+json": {
              "version_major": 2,
              "version_minor": 0,
              "model_id": "c2b4dcee0d514578bc3d2932b8c90914"
            }
          },
          "metadata": {}
        },
        {
          "output_type": "display_data",
          "data": {
            "text/plain": [
              "Text(value='', description='Courses:', disabled=True)"
            ],
            "application/vnd.jupyter.widget-view+json": {
              "version_major": 2,
              "version_minor": 0,
              "model_id": "f41b310051434de7b6289eedf5a74613"
            }
          },
          "metadata": {}
        },
        {
          "output_type": "display_data",
          "data": {
            "text/plain": [
              "Text(value='', description='Favorite Program:')"
            ],
            "application/vnd.jupyter.widget-view+json": {
              "version_major": 2,
              "version_minor": 0,
              "model_id": "35d447ca121c4fbd92f905a14a9b9897"
            }
          },
          "metadata": {}
        },
        {
          "output_type": "display_data",
          "data": {
            "text/plain": [
              "Button(description='Save to File', style=ButtonStyle())"
            ],
            "application/vnd.jupyter.widget-view+json": {
              "version_major": 2,
              "version_minor": 0,
              "model_id": "1432d9a1094d4ba1ab12a5728bdb1973"
            }
          },
          "metadata": {}
        },
        {
          "output_type": "stream",
          "name": "stdout",
          "text": [
            "Student data saved successfully!\n",
            "Student data saved successfully!\n",
            "Student data saved successfully!\n",
            "Student data saved successfully!\n",
            "Student data saved successfully!\n",
            "Student data saved successfully!\n",
            "Student data saved successfully!\n",
            "Student data saved successfully!\n",
            "Student data saved successfully!\n"
          ]
        }
      ]
    },
    {
      "cell_type": "markdown",
      "source": [],
      "metadata": {
        "id": "tl9IyFCe_1TT"
      }
    }
  ]
}
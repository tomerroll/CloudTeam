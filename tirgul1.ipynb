import re
import ipywidgets as widgets
from IPython.display import display

# Define the Student structure
class Student:
    def __init__(self, full_name, email, courses):
        self.full_name = full_name
        self.email = email
        self.courses = courses  # Store courses as a list
        self.favorite_program = ""

    def set_favorite_program(self, program):
        self.favorite_program = program

    def __str__(self):
        return f"{self.full_name}, {self.email}, {self.courses}, {self.favorite_program}"

def extract_students(filename):
    try:
        with open(filename, 'r', encoding='utf-8') as file:
            lines = file.readlines()

        students = {}
        for line in lines:
            line = line.strip()
            if line:
                # Split keeping brackets intact
                parts = re.split(r',\s*(?![^[]*\])', line)  

                if len(parts) >= 3:
                    full_name = parts[0]
                    email = parts[1]

                    # Extract courses inside brackets
                    bracket_courses_match = re.search(r'\[([^\]]+)\]', parts[2])
                    bracket_courses = [c.strip() for c in bracket_courses_match.group(1).split(',')] if bracket_courses_match else []

                    # Extract courses outside brackets
                    outside_courses = re.sub(r'\[[^\]]+\]', '', parts[2]).strip()
                    outside_courses = [c.strip() for c in outside_courses.split(';') if c.strip()]

                    # Additional courses after the main field (if any)
                    extra_courses = []
                    if len(parts) > 3:
                        extra_courses = [c.strip() for c in parts[3].split(';') if c.strip()]

                    # Merge all courses
                    courses = bracket_courses + outside_courses + extra_courses

                    students[full_name] = Student(full_name, email, courses)

        return students
    except Exception as e:
        print("Error reading file:", e)
        return {}

def save_students_to_file(filename):
    try:
        with open(filename, 'w', encoding='utf-8') as file:
            for student in students.values():
                formatted_courses = f"[{', '.join(student.courses)}]"
                file.write(f"{student.full_name}, {student.email}, {formatted_courses}, {student.favorite_program}\n")
        print("Student data saved successfully!")
    except Exception as e:
        print("Error saving file:", e)

# Load student data
filename = 'students.txt'
students = extract_students(filename)
names = list(students.keys())

# Create dropdown and text boxes
dropdown = widgets.Dropdown(options=names, description='Name:')
email_box = widgets.Text(description='Email:', disabled=True)
courses_box = widgets.Text(description='Courses:', disabled=True)
favorite_program_box = widgets.Text(description='Favorite Program:')

# Update displayed student information
def on_select(change):
    selected_name = change['new']
    if selected_name in students:
        email_box.value = students[selected_name].email
        courses_box.value = ', '.join(students[selected_name].courses)  # Properly format courses
        favorite_program_box.value = students[selected_name].favorite_program

# Update favorite program when changed
def update_favorite(change):
    selected_name = dropdown.value
    if selected_name in students:
        students[selected_name].set_favorite_program(change["new"])

# Observe changes
dropdown.observe(on_select, names='value')
favorite_program_box.observe(update_favorite, names='value')

# Display widgets
display(dropdown, email_box, courses_box, favorite_program_box)

# Save button
save_button = widgets.Button(description="Save to File")
save_button.on_click(lambda b: save_students_to_file(filename))
display(save_button)

{
  "nbformat": 4,
  "nbformat_minor": 0,
  "metadata": {
    "colab": {
      "provenance": []
    },
    "kernelspec": {
      "name": "python3",
      "display_name": "Python 3"
    },
    "language_info": {
      "name": "python"
    },
    "widgets": {
      "application/vnd.jupyter.widget-state+json": {
        "10779232dca04645b7f55632cb6b1b7d": {
          "model_module": "@jupyter-widgets/controls",
          "model_name": "DropdownModel",
          "model_module_version": "1.5.0",
          "state": {
            "_dom_classes": [],
            "_model_module": "@jupyter-widgets/controls",
            "_model_module_version": "1.5.0",
            "_model_name": "DropdownModel",
            "_options_labels": [
              "Alice Johnson",
              "Bob Smith",
              "Charlie Brown"
            ],
            "_view_count": null,
            "_view_module": "@jupyter-widgets/controls",
            "_view_module_version": "1.5.0",
            "_view_name": "DropdownView",
            "description": "Name:",
            "description_tooltip": null,
            "disabled": false,
            "index": 2,
            "layout": "IPY_MODEL_3ed0f41e95f74977913f9da6a9adb7b9",
            "style": "IPY_MODEL_c51e9d0563a54435b8e763a50bb61004"
          }
        },
        "3ed0f41e95f74977913f9da6a9adb7b9": {
          "model_module": "@jupyter-widgets/base",
          "model_name": "LayoutModel",
          "model_module_version": "1.2.0",
          "state": {
            "_model_module": "@jupyter-widgets/base",
            "_model_module_version": "1.2.0",
            "_model_name": "LayoutModel",
            "_view_count": null,
            "_view_module": "@jupyter-widgets/base",
            "_view_module_version": "1.2.0",
            "_view_name": "LayoutView",
            "align_content": null,
            "align_items": null,
            "align_self": null,
            "border": null,
            "bottom": null,
            "display": null,
            "flex": null,
            "flex_flow": null,
            "grid_area": null,
            "grid_auto_columns": null,
            "grid_auto_flow": null,
            "grid_auto_rows": null,
            "grid_column": null,
            "grid_gap": null,
            "grid_row": null,
            "grid_template_areas": null,
            "grid_template_columns": null,
            "grid_template_rows": null,
            "height": null,
            "justify_content": null,
            "justify_items": null,
            "left": null,
            "margin": null,
            "max_height": null,
            "max_width": null,
            "min_height": null,
            "min_width": null,
            "object_fit": null,
            "object_position": null,
            "order": null,
            "overflow": null,
            "overflow_x": null,
            "overflow_y": null,
            "padding": null,
            "right": null,
            "top": null,
            "visibility": null,
            "width": null
          }
        },
        "c51e9d0563a54435b8e763a50bb61004": {
          "model_module": "@jupyter-widgets/controls",
          "model_name": "DescriptionStyleModel",
          "model_module_version": "1.5.0",
          "state": {
            "_model_module": "@jupyter-widgets/controls",
            "_model_module_version": "1.5.0",
            "_model_name": "DescriptionStyleModel",
            "_view_count": null,
            "_view_module": "@jupyter-widgets/base",
            "_view_module_version": "1.2.0",
            "_view_name": "StyleView",
            "description_width": ""
          }
        },
        "9d043a22ef494cbf959c3c6bdd2d0c3f": {
          "model_module": "@jupyter-widgets/controls",
          "model_name": "TextModel",
          "model_module_version": "1.5.0",
          "state": {
            "_dom_classes": [],
            "_model_module": "@jupyter-widgets/controls",
            "_model_module_version": "1.5.0",
            "_model_name": "TextModel",
            "_view_count": null,
            "_view_module": "@jupyter-widgets/controls",
            "_view_module_version": "1.5.0",
            "_view_name": "TextView",
            "continuous_update": true,
            "description": "Email:",
            "description_tooltip": null,
            "disabled": true,
            "layout": "IPY_MODEL_07140c91eec045a09a40df511e3c9ab9",
            "placeholder": "​",
            "style": "IPY_MODEL_ccaf86eafc0d4833b0e4a6594f760d66",
            "value": "charlie@example.com"
          }
        },
        "07140c91eec045a09a40df511e3c9ab9": {
          "model_module": "@jupyter-widgets/base",
          "model_name": "LayoutModel",
          "model_module_version": "1.2.0",
          "state": {
            "_model_module": "@jupyter-widgets/base",
            "_model_module_version": "1.2.0",
            "_model_name": "LayoutModel",
            "_view_count": null,
            "_view_module": "@jupyter-widgets/base",
            "_view_module_version": "1.2.0",
            "_view_name": "LayoutView",
            "align_content": null,
            "align_items": null,
            "align_self": null,
            "border": null,
            "bottom": null,
            "display": null,
            "flex": null,
            "flex_flow": null,
            "grid_area": null,
            "grid_auto_columns": null,
            "grid_auto_flow": null,
            "grid_auto_rows": null,
            "grid_column": null,
            "grid_gap": null,
            "grid_row": null,
            "grid_template_areas": null,
            "grid_template_columns": null,
            "grid_template_rows": null,
            "height": null,
            "justify_content": null,
            "justify_items": null,
            "left": null,
            "margin": null,
            "max_height": null,
            "max_width": null,
            "min_height": null,
            "min_width": null,
            "object_fit": null,
            "object_position": null,
            "order": null,
            "overflow": null,
            "overflow_x": null,
            "overflow_y": null,
            "padding": null,
            "right": null,
            "top": null,
            "visibility": null,
            "width": null
          }
        },
        "ccaf86eafc0d4833b0e4a6594f760d66": {
          "model_module": "@jupyter-widgets/controls",
          "model_name": "DescriptionStyleModel",
          "model_module_version": "1.5.0",
          "state": {
            "_model_module": "@jupyter-widgets/controls",
            "_model_module_version": "1.5.0",
            "_model_name": "DescriptionStyleModel",
            "_view_count": null,
            "_view_module": "@jupyter-widgets/base",
            "_view_module_version": "1.2.0",
            "_view_name": "StyleView",
            "description_width": ""
          }
        },
        "06ce7aaa68e4402e9666149854f163c4": {
          "model_module": "@jupyter-widgets/controls",
          "model_name": "TextModel",
          "model_module_version": "1.5.0",
          "state": {
            "_dom_classes": [],
            "_model_module": "@jupyter-widgets/controls",
            "_model_module_version": "1.5.0",
            "_model_name": "TextModel",
            "_view_count": null,
            "_view_module": "@jupyter-widgets/controls",
            "_view_module_version": "1.5.0",
            "_view_name": "TextView",
            "continuous_update": true,
            "description": "Courses:",
            "description_tooltip": null,
            "disabled": true,
            "layout": "IPY_MODEL_954f94ff7bd647baa2bcd8cc37c83c04",
            "placeholder": "​",
            "style": "IPY_MODEL_10124785f57b4fad83f8aa0ac04de86c",
            "value": "'Computer Science', 'Physics', 'Literature'"
          }
        },
        "954f94ff7bd647baa2bcd8cc37c83c04": {
          "model_module": "@jupyter-widgets/base",
          "model_name": "LayoutModel",
          "model_module_version": "1.2.0",
          "state": {
            "_model_module": "@jupyter-widgets/base",
            "_model_module_version": "1.2.0",
            "_model_name": "LayoutModel",
            "_view_count": null,
            "_view_module": "@jupyter-widgets/base",
            "_view_module_version": "1.2.0",
            "_view_name": "LayoutView",
            "align_content": null,
            "align_items": null,
            "align_self": null,
            "border": null,
            "bottom": null,
            "display": null,
            "flex": null,
            "flex_flow": null,
            "grid_area": null,
            "grid_auto_columns": null,
            "grid_auto_flow": null,
            "grid_auto_rows": null,
            "grid_column": null,
            "grid_gap": null,
            "grid_row": null,
            "grid_template_areas": null,
            "grid_template_columns": null,
            "grid_template_rows": null,
            "height": null,
            "justify_content": null,
            "justify_items": null,
            "left": null,
            "margin": null,
            "max_height": null,
            "max_width": null,
            "min_height": null,
            "min_width": null,
            "object_fit": null,
            "object_position": null,
            "order": null,
            "overflow": null,
            "overflow_x": null,
            "overflow_y": null,
            "padding": null,
            "right": null,
            "top": null,
            "visibility": null,
            "width": null
          }
        },
        "10124785f57b4fad83f8aa0ac04de86c": {
          "model_module": "@jupyter-widgets/controls",
          "model_name": "DescriptionStyleModel",
          "model_module_version": "1.5.0",
          "state": {
            "_model_module": "@jupyter-widgets/controls",
            "_model_module_version": "1.5.0",
            "_model_name": "DescriptionStyleModel",
            "_view_count": null,
            "_view_module": "@jupyter-widgets/base",
            "_view_module_version": "1.2.0",
            "_view_name": "StyleView",
            "description_width": ""
          }
        },
        "00f93cfad85748a589a9e2012dd90718": {
          "model_module": "@jupyter-widgets/controls",
          "model_name": "TextModel",
          "model_module_version": "1.5.0",
          "state": {
            "_dom_classes": [],
            "_model_module": "@jupyter-widgets/controls",
            "_model_module_version": "1.5.0",
            "_model_name": "TextModel",
            "_view_count": null,
            "_view_module": "@jupyter-widgets/controls",
            "_view_module_version": "1.5.0",
            "_view_name": "TextView",
            "continuous_update": true,
            "description": "Favorite Program:",
            "description_tooltip": null,
            "disabled": false,
            "layout": "IPY_MODEL_8496d5233083481187e9ea5bd9b013b8",
            "placeholder": "​",
            "style": "IPY_MODEL_369d0795740a450f8a9097b77b8407a3",
            "value": ""
          }
        },
        "8496d5233083481187e9ea5bd9b013b8": {
          "model_module": "@jupyter-widgets/base",
          "model_name": "LayoutModel",
          "model_module_version": "1.2.0",
          "state": {
            "_model_module": "@jupyter-widgets/base",
            "_model_module_version": "1.2.0",
            "_model_name": "LayoutModel",
            "_view_count": null,
            "_view_module": "@jupyter-widgets/base",
            "_view_module_version": "1.2.0",
            "_view_name": "LayoutView",
            "align_content": null,
            "align_items": null,
            "align_self": null,
            "border": null,
            "bottom": null,
            "display": null,
            "flex": null,
            "flex_flow": null,
            "grid_area": null,
            "grid_auto_columns": null,
            "grid_auto_flow": null,
            "grid_auto_rows": null,
            "grid_column": null,
            "grid_gap": null,
            "grid_row": null,
            "grid_template_areas": null,
            "grid_template_columns": null,
            "grid_template_rows": null,
            "height": null,
            "justify_content": null,
            "justify_items": null,
            "left": null,
            "margin": null,
            "max_height": null,
            "max_width": null,
            "min_height": null,
            "min_width": null,
            "object_fit": null,
            "object_position": null,
            "order": null,
            "overflow": null,
            "overflow_x": null,
            "overflow_y": null,
            "padding": null,
            "right": null,
            "top": null,
            "visibility": null,
            "width": null
          }
        },
        "369d0795740a450f8a9097b77b8407a3": {
          "model_module": "@jupyter-widgets/controls",
          "model_name": "DescriptionStyleModel",
          "model_module_version": "1.5.0",
          "state": {
            "_model_module": "@jupyter-widgets/controls",
            "_model_module_version": "1.5.0",
            "_model_name": "DescriptionStyleModel",
            "_view_count": null,
            "_view_module": "@jupyter-widgets/base",
            "_view_module_version": "1.2.0",
            "_view_name": "StyleView",
            "description_width": ""
          }
        },
        "f5bd361023b54625bf970d03f5f78b61": {
          "model_module": "@jupyter-widgets/controls",
          "model_name": "ButtonModel",
          "model_module_version": "1.5.0",
          "state": {
            "_dom_classes": [],
            "_model_module": "@jupyter-widgets/controls",
            "_model_module_version": "1.5.0",
            "_model_name": "ButtonModel",
            "_view_count": null,
            "_view_module": "@jupyter-widgets/controls",
            "_view_module_version": "1.5.0",
            "_view_name": "ButtonView",
            "button_style": "",
            "description": "Save to File",
            "disabled": false,
            "icon": "",
            "layout": "IPY_MODEL_9e8ad6664db04aa4aecb3743e90aedad",
            "style": "IPY_MODEL_d40e6d34258a4d869a01ef4c77503ced",
            "tooltip": ""
          }
        },
        "9e8ad6664db04aa4aecb3743e90aedad": {
          "model_module": "@jupyter-widgets/base",
          "model_name": "LayoutModel",
          "model_module_version": "1.2.0",
          "state": {
            "_model_module": "@jupyter-widgets/base",
            "_model_module_version": "1.2.0",
            "_model_name": "LayoutModel",
            "_view_count": null,
            "_view_module": "@jupyter-widgets/base",
            "_view_module_version": "1.2.0",
            "_view_name": "LayoutView",
            "align_content": null,
            "align_items": null,
            "align_self": null,
            "border": null,
            "bottom": null,
            "display": null,
            "flex": null,
            "flex_flow": null,
            "grid_area": null,
            "grid_auto_columns": null,
            "grid_auto_flow": null,
            "grid_auto_rows": null,
            "grid_column": null,
            "grid_gap": null,
            "grid_row": null,
            "grid_template_areas": null,
            "grid_template_columns": null,
            "grid_template_rows": null,
            "height": null,
            "justify_content": null,
            "justify_items": null,
            "left": null,
            "margin": null,
            "max_height": null,
            "max_width": null,
            "min_height": null,
            "min_width": null,
            "object_fit": null,
            "object_position": null,
            "order": null,
            "overflow": null,
            "overflow_x": null,
            "overflow_y": null,
            "padding": null,
            "right": null,
            "top": null,
            "visibility": null,
            "width": null
          }
        },
        "d40e6d34258a4d869a01ef4c77503ced": {
          "model_module": "@jupyter-widgets/controls",
          "model_name": "ButtonStyleModel",
          "model_module_version": "1.5.0",
          "state": {
            "_model_module": "@jupyter-widgets/controls",
            "_model_module_version": "1.5.0",
            "_model_name": "ButtonStyleModel",
            "_view_count": null,
            "_view_module": "@jupyter-widgets/base",
            "_view_module_version": "1.2.0",
            "_view_name": "StyleView",
            "button_color": null,
            "font_weight": ""
          }
        }
      }
    }
  },
  "cells": [
    {
      "cell_type": "code",
      "source": [
        "import re\n",
        "import ipywidgets as widgets\n",
        "from IPython.display import display\n",
        "\n",
        "# Define the Student structure\n",
        "class Student:\n",
        "    def __init__(self, full_name, email, courses):\n",
        "        self.full_name = full_name\n",
        "        self.email = email\n",
        "        self.courses = courses  # Store courses as a list\n",
        "        self.favorite_program = \"\"\n",
        "\n",
        "    def set_favorite_program(self, program):\n",
        "        self.favorite_program = program\n",
        "\n",
        "    def __str__(self):\n",
        "        return f\"{self.full_name}, {self.email}, {self.courses}, {self.favorite_program}\"\n",
        "\n",
        "def extract_students(filename):\n",
        "    try:\n",
        "        with open(filename, 'r', encoding='utf-8') as file:\n",
        "            lines = file.readlines()\n",
        "\n",
        "        students = {}\n",
        "        for line in lines:\n",
        "            line = line.strip()\n",
        "            if line:\n",
        "                # Split keeping brackets intact\n",
        "                parts = re.split(r',\\s*(?![^[]*\\])', line)\n",
        "\n",
        "                if len(parts) >= 3:\n",
        "                    full_name = parts[0]\n",
        "                    email = parts[1]\n",
        "\n",
        "                    # Extract courses inside brackets\n",
        "                    bracket_courses_match = re.search(r'\\[([^\\]]+)\\]', parts[2])\n",
        "                    bracket_courses = [c.strip() for c in bracket_courses_match.group(1).split(',')] if bracket_courses_match else []\n",
        "\n",
        "                    # Extract courses outside brackets\n",
        "                    outside_courses = re.sub(r'\\[[^\\]]+\\]', '', parts[2]).strip()\n",
        "                    outside_courses = [c.strip() for c in outside_courses.split(';') if c.strip()]\n",
        "\n",
        "                    # Additional courses after the main field (if any)\n",
        "                    extra_courses = []\n",
        "                    if len(parts) > 3:\n",
        "                        extra_courses = [c.strip() for c in parts[3].split(';') if c.strip()]\n",
        "\n",
        "                    # Merge all courses\n",
        "                    courses = bracket_courses + outside_courses + extra_courses\n",
        "\n",
        "                    students[full_name] = Student(full_name, email, courses)\n",
        "\n",
        "        return students\n",
        "    except Exception as e:\n",
        "        print(\"Error reading file:\", e)\n",
        "        return {}\n",
        "\n",
        "def save_students_to_file(filename):\n",
        "    try:\n",
        "        with open(filename, 'w', encoding='utf-8') as file:\n",
        "            for student in students.values():\n",
        "                formatted_courses = f\"[{', '.join(student.courses)}]\"\n",
        "                file.write(f\"{student.full_name}, {student.email}, {formatted_courses}, {student.favorite_program}\\n\")\n",
        "        print(\"Student data saved successfully!\")\n",
        "    except Exception as e:\n",
        "        print(\"Error saving file:\", e)\n",
        "\n",
        "# Load student data\n",
        "filename = 'students.txt'\n",
        "students = extract_students(filename)\n",
        "names = list(students.keys())\n",
        "\n",
        "# Create dropdown and text boxes\n",
        "dropdown = widgets.Dropdown(options=names, description='Name:')\n",
        "email_box = widgets.Text(description='Email:', disabled=True)\n",
        "courses_box = widgets.Text(description='Courses:', disabled=True)\n",
        "favorite_program_box = widgets.Text(description='Favorite Program:')\n",
        "\n",
        "# Update displayed student information\n",
        "def on_select(change):\n",
        "    selected_name = change['new']\n",
        "    if selected_name in students:\n",
        "        email_box.value = students[selected_name].email\n",
        "        courses_box.value = ', '.join(students[selected_name].courses)  # Properly format courses\n",
        "        favorite_program_box.value = students[selected_name].favorite_program\n",
        "\n",
        "# Update favorite program when changed\n",
        "def update_favorite(change):\n",
        "    selected_name = dropdown.value\n",
        "    if selected_name in students:\n",
        "        students[selected_name].set_favorite_program(change[\"new\"])\n",
        "\n",
        "# Observe changes\n",
        "dropdown.observe(on_select, names='value')\n",
        "favorite_program_box.observe(update_favorite, names='value')\n",
        "\n",
        "# Display widgets\n",
        "display(dropdown, email_box, courses_box, favorite_program_box)\n",
        "\n",
        "# Save button\n",
        "save_button = widgets.Button(description=\"Save to File\")\n",
        "save_button.on_click(lambda b: save_students_to_file(filename))\n",
        "display(save_button)\n"
      ],
      "metadata": {
        "colab": {
          "base_uri": "https://localhost:8080/",
          "height": 171,
          "referenced_widgets": [
            "10779232dca04645b7f55632cb6b1b7d",
            "3ed0f41e95f74977913f9da6a9adb7b9",
            "c51e9d0563a54435b8e763a50bb61004",
            "9d043a22ef494cbf959c3c6bdd2d0c3f",
            "07140c91eec045a09a40df511e3c9ab9",
            "ccaf86eafc0d4833b0e4a6594f760d66",
            "06ce7aaa68e4402e9666149854f163c4",
            "954f94ff7bd647baa2bcd8cc37c83c04",
            "10124785f57b4fad83f8aa0ac04de86c",
            "00f93cfad85748a589a9e2012dd90718",
            "8496d5233083481187e9ea5bd9b013b8",
            "369d0795740a450f8a9097b77b8407a3",
            "f5bd361023b54625bf970d03f5f78b61",
            "9e8ad6664db04aa4aecb3743e90aedad",
            "d40e6d34258a4d869a01ef4c77503ced"
          ]
        },
        "id": "VFO-UOSoCtaV",
        "outputId": "a2df9f72-e094-4efe-849c-bf5f8f94090d"
      },
      "execution_count": 7,
      "outputs": [
        {
          "output_type": "display_data",
          "data": {
            "text/plain": [
              "Dropdown(description='Name:', options=('Alice Johnson', 'Bob Smith', 'Charlie Brown'), value='Alice Johnson')"
            ],
            "application/vnd.jupyter.widget-view+json": {
              "version_major": 2,
              "version_minor": 0,
              "model_id": "10779232dca04645b7f55632cb6b1b7d"
            }
          },
          "metadata": {}
        },
        {
          "output_type": "display_data",
          "data": {
            "text/plain": [
              "Text(value='', description='Email:', disabled=True)"
            ],
            "application/vnd.jupyter.widget-view+json": {
              "version_major": 2,
              "version_minor": 0,
              "model_id": "9d043a22ef494cbf959c3c6bdd2d0c3f"
            }
          },
          "metadata": {}
        },
        {
          "output_type": "display_data",
          "data": {
            "text/plain": [
              "Text(value='', description='Courses:', disabled=True)"
            ],
            "application/vnd.jupyter.widget-view+json": {
              "version_major": 2,
              "version_minor": 0,
              "model_id": "06ce7aaa68e4402e9666149854f163c4"
            }
          },
          "metadata": {}
        },
        {
          "output_type": "display_data",
          "data": {
            "text/plain": [
              "Text(value='', description='Favorite Program:')"
            ],
            "application/vnd.jupyter.widget-view+json": {
              "version_major": 2,
              "version_minor": 0,
              "model_id": "00f93cfad85748a589a9e2012dd90718"
            }
          },
          "metadata": {}
        },
        {
          "output_type": "display_data",
          "data": {
            "text/plain": [
              "Button(description='Save to File', style=ButtonStyle())"
            ],
            "application/vnd.jupyter.widget-view+json": {
              "version_major": 2,
              "version_minor": 0,
              "model_id": "f5bd361023b54625bf970d03f5f78b61"
            }
          },
          "metadata": {}
        }
      ]
    },
    {
      "cell_type": "markdown",
      "source": [],
      "metadata": {
        "id": "XJf6LiN5yTUP"
      }
    },
    {
      "cell_type": "code",
      "source": [],
      "metadata": {
        "id": "KWcF-M9au0rL"
      },
      "execution_count": null,
      "outputs": []
    },
    {
      "cell_type": "markdown",
      "source": [
        "# New Section"
      ],
      "metadata": {
        "id": "yzPKru7ItxT7"
      }
    },
    {
      "cell_type": "markdown",
      "source": [
        "# New Section"
      ],
      "metadata": {
        "id": "2V_APVCFtxyi"
      }
    },
    {
      "cell_type": "markdown",
      "source": [
        "# New Section"
      ],
      "metadata": {
        "id": "t7W7Jar3s-rO"
      }
    },
    {
      "cell_type": "code",
      "source": [
        "from google.colab import drive\n",
        "drive.mount('/content/drive')"
      ],
      "metadata": {
        "id": "bjztfNfktCkd"
      },
      "execution_count": null,
      "outputs": []
    },
    {
      "cell_type": "markdown",
      "source": [],
      "metadata": {
        "id": "tl9IyFCe_1TT"
      }
    }
  ]
}